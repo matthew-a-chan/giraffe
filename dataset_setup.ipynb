{
 "cells": [
  {
   "cell_type": "code",
   "execution_count": 1,
   "id": "79cc1541-b461-47db-9123-23df2abb25ee",
   "metadata": {},
   "outputs": [
    {
     "name": "stdout",
     "output_type": "stream",
     "text": [
      "Loading files ...\n",
      "19999it [00:14, 1422.00it/s]\n",
      "Found 20000 images.\n",
      "Start Calculations with 20000 images...\n",
      "/home/matthewachan/environments/scatternet/lib/python3.8/site-packages/torch/nn/functional.py:718: UserWarning: Named tensors and all their associated APIs are an experimental feature and subject to change. Please do not use them for anything important until they are released as stable. (Triggered internally at  /pytorch/c10/core/TensorImpl.h:1156.)\n",
      "  return torch.max_pool2d(input, kernel_size, stride, padding, dilation, ceil_mode)\n",
      "finished!\n",
      "Saved dictionary to data/fid_files/shapenet_cars_fullsphere_128/shapenet_cars_fullsphere_128.npz.\n"
     ]
    }
   ],
   "source": [
    "!mkdir data/fid_files/shapenet_cars_fullsphere_128\n",
    "!python scripts/precalc_fid.py  \"data/shapenet_cars/*/rgb/*.png\" \\\n",
    "--regex True --gpu 0 \\\n",
    "--out-file \"data/fid_files/shapenet_cars_fullsphere_128/shapenet_cars_fullsphere_128.npz\" \\\n",
    "--img-size 128"
   ]
  },
  {
   "cell_type": "code",
   "execution_count": null,
   "id": "4cc619e2-2707-43f5-b89f-7d91ab80a3f6",
   "metadata": {},
   "outputs": [],
   "source": []
  }
 ],
 "metadata": {
  "kernelspec": {
   "display_name": "Python 3 (ipykernel)",
   "language": "python",
   "name": "python3"
  },
  "language_info": {
   "codemirror_mode": {
    "name": "ipython",
    "version": 3
   },
   "file_extension": ".py",
   "mimetype": "text/x-python",
   "name": "python",
   "nbconvert_exporter": "python",
   "pygments_lexer": "ipython3",
   "version": "3.8.10"
  }
 },
 "nbformat": 4,
 "nbformat_minor": 5
}
