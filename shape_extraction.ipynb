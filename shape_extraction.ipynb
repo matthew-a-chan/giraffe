{
 "cells": [
  {
   "cell_type": "code",
   "execution_count": 1,
   "id": "03a3a6c3-9964-4902-88bd-ceae76863111",
   "metadata": {},
   "outputs": [
    {
     "name": "stderr",
     "output_type": "stream",
     "text": [
      "/home/matthewachan/environments/scatternet/lib/python3.8/site-packages/kornia/augmentation/augmentation.py:1872: DeprecationWarning: GaussianBlur is no longer maintained and will be removed from the future versions. Please use RandomGaussianBlur instead.\n",
      "  warnings.warn(\n"
     ]
    }
   ],
   "source": [
    "import torch\n",
    "import torch.optim as optim\n",
    "from torch.utils.tensorboard import SummaryWriter\n",
    "import numpy as np\n",
    "import os\n",
    "import argparse\n",
    "import time\n",
    "from im2scene import config\n",
    "from im2scene.checkpoints import CheckpointIO\n",
    "import logging\n",
    "logger_py = logging.getLogger(__name__)"
   ]
  },
  {
   "cell_type": "code",
   "execution_count": 2,
   "id": "7a1e8c9f-29cb-4a14-8ab2-fb2d4052fbb2",
   "metadata": {},
   "outputs": [],
   "source": [
    "import os\n",
    "import urllib\n",
    "import torch\n",
    "from torch.utils import model_zoo\n",
    "import shutil\n",
    "import datetime"
   ]
  },
  {
   "cell_type": "code",
   "execution_count": 3,
   "id": "0ca112c3-c06f-4095-a119-78937faf219d",
   "metadata": {},
   "outputs": [],
   "source": [
    "import mrcfile\n",
    "from tqdm import tqdm"
   ]
  },
  {
   "cell_type": "code",
   "execution_count": null,
   "id": "ac93b455-bdc5-4907-bfcc-546ae55654c5",
   "metadata": {},
   "outputs": [],
   "source": []
  },
  {
   "cell_type": "code",
   "execution_count": null,
   "id": "983694a0-c321-4de2-8a5d-4651ba7f5564",
   "metadata": {},
   "outputs": [],
   "source": []
  },
  {
   "cell_type": "code",
   "execution_count": 4,
   "id": "0b86117a-1215-4768-8b2d-3c006f164140",
   "metadata": {},
   "outputs": [],
   "source": [
    "device = torch.device('cuda:0')"
   ]
  },
  {
   "cell_type": "code",
   "execution_count": 5,
   "id": "db40f644-7e75-4a05-a7a7-ff9ab63ab65b",
   "metadata": {},
   "outputs": [],
   "source": [
    "out_dir = 'out/FFHQ_256b/'"
   ]
  },
  {
   "cell_type": "code",
   "execution_count": null,
   "id": "bb281f37-dd4c-4ce8-bb7e-d1027375bf3d",
   "metadata": {},
   "outputs": [],
   "source": []
  },
  {
   "cell_type": "code",
   "execution_count": 10,
   "id": "2f7d959e-6517-4094-b7ac-eb347236b319",
   "metadata": {},
   "outputs": [],
   "source": [
    "cfg = config.load_config(\"configs/256res/FFHQ_256b.yaml\", 'configs/default.yaml')"
   ]
  },
  {
   "cell_type": "code",
   "execution_count": null,
   "id": "c4dafd9f-59ad-494f-81fb-c715812f2fd7",
   "metadata": {},
   "outputs": [],
   "source": []
  },
  {
   "cell_type": "code",
   "execution_count": 11,
   "id": "bbc0a455-f374-4594-a63b-cac99176ec32",
   "metadata": {},
   "outputs": [],
   "source": [
    "# Load model"
   ]
  },
  {
   "cell_type": "code",
   "execution_count": 12,
   "id": "35b6c018-7ca7-47bd-be15-c8a3958e3d37",
   "metadata": {},
   "outputs": [],
   "source": [
    "model = config.get_model(cfg, device=device, len_dataset=1)"
   ]
  },
  {
   "cell_type": "code",
   "execution_count": 13,
   "id": "4ed0f345-89ca-4dc7-b33b-bd06e1ea426b",
   "metadata": {},
   "outputs": [
    {
     "name": "stdout",
     "output_type": "stream",
     "text": [
      "out/FFHQ_256b/model.pt\n",
      "=> Loading checkpoint from local file...\n",
      "Loaded model checkpoint.\n"
     ]
    }
   ],
   "source": [
    "checkpoint_io = CheckpointIO(out_dir, model=model)\n",
    "try:\n",
    "    load_dict = checkpoint_io.load('model.pt')\n",
    "    print(\"Loaded model checkpoint.\")\n",
    "except FileExistsError:\n",
    "    load_dict = dict()\n",
    "    print(\"No model checkpoint found.\")\n"
   ]
  },
  {
   "cell_type": "code",
   "execution_count": null,
   "id": "2809f6e7-8636-4a9d-96e6-df7e74a608a9",
   "metadata": {},
   "outputs": [],
   "source": []
  },
  {
   "cell_type": "code",
   "execution_count": 14,
   "id": "4213fa61-3427-42cf-953f-6133b1cf319d",
   "metadata": {},
   "outputs": [],
   "source": [
    "def create_samples(N=256, voxel_origin=[0, 0, 0], cube_length=2.0):\n",
    "    x, y, z = voxel_origin\n",
    "    halfcube = cube_length/2\n",
    "    x = torch.arange(0, N) * cube_length / (N-1) + x - halfcube\n",
    "    y = torch.arange(0, N) * cube_length / (N-1) + y - halfcube\n",
    "    z = torch.arange(0, N) * cube_length / (N-1) + z - halfcube\n",
    "\n",
    "    grid = torch.stack(torch.meshgrid(x, y, z), dim=-1)\n",
    "    \n",
    "    samples = grid.reshape(1, -1, 3)\n",
    "\n",
    "    return samples"
   ]
  },
  {
   "cell_type": "code",
   "execution_count": null,
   "id": "0bebf33b-3daa-4964-861e-11d66acae5b2",
   "metadata": {},
   "outputs": [],
   "source": []
  },
  {
   "cell_type": "code",
   "execution_count": 15,
   "id": "b17e42d0-3b06-4ed8-9d0f-b06bde82801b",
   "metadata": {},
   "outputs": [],
   "source": [
    "batch_size=1\n",
    "z_dim=256\n",
    "torch.manual_seed(0)\n",
    "shape_z = torch.randn(batch_size, z_dim).to(device)\n",
    "app_z = torch.randn(batch_size, z_dim).to(device)"
   ]
  },
  {
   "cell_type": "code",
   "execution_count": 16,
   "id": "23595c87-97f0-4bdc-9e34-493db7a04b56",
   "metadata": {},
   "outputs": [],
   "source": [
    "# CREATE SAMPLES\n",
    "voxel_res = 256\n",
    "\n",
    "points = create_samples(voxel_res).to(device)\n",
    "raydirs = torch.zeros_like(points) # shape is independent of raydir"
   ]
  },
  {
   "cell_type": "code",
   "execution_count": 18,
   "id": "59bee1a4-0888-4f28-8d1c-56ded902d9eb",
   "metadata": {},
   "outputs": [],
   "source": [
    "## RUN SAMPLES"
   ]
  },
  {
   "cell_type": "code",
   "execution_count": 23,
   "id": "aae0b3a9-8060-4e3f-92ae-b60f2867c628",
   "metadata": {},
   "outputs": [
    {
     "name": "stderr",
     "output_type": "stream",
     "text": [
      "100%|██████████████████████████████████████████████████████████████████████████████████████████████████████████████████████████████████████████████████████████████████████████████████| 16777216/16777216 [00:00<00:00, 33591496.90it/s]\n"
     ]
    }
   ],
   "source": [
    "MAX_SAMPLES_PER_BATCH = int(2**20)\n",
    "\n",
    "# batch across samples:\n",
    "with torch.no_grad():\n",
    "    sigma = torch.zeros(points.shape[:2]).to(device)\n",
    "\n",
    "    i = 0\n",
    "    with tqdm(total = sigma.shape[1]) as pbar:\n",
    "        while i < sigma.shape[1]:\n",
    "            _, sigma[:, i:i+MAX_SAMPLES_PER_BATCH] = model.generator.decoder(points[:, i:i+MAX_SAMPLES_PER_BATCH], raydirs[:, i:i+MAX_SAMPLES_PER_BATCH], shape_z, app_z)\n",
    "\n",
    "            i += MAX_SAMPLES_PER_BATCH\n",
    "            pbar.update(MAX_SAMPLES_PER_BATCH)\n",
    "\n",
    "    sigma = torch.sigmoid(sigma)"
   ]
  },
  {
   "cell_type": "code",
   "execution_count": 24,
   "id": "0562a5ff-379a-4975-8f8e-90cd2172b83d",
   "metadata": {},
   "outputs": [],
   "source": [
    "sigma = sigma.reshape(1, voxel_res, voxel_res, voxel_res).cpu().numpy()"
   ]
  },
  {
   "cell_type": "code",
   "execution_count": null,
   "id": "f64a46c3-aa21-4c09-81de-5e16e99afaf5",
   "metadata": {},
   "outputs": [],
   "source": []
  },
  {
   "cell_type": "code",
   "execution_count": 25,
   "id": "31fc0a44-b644-44b6-bfd6-7680217baf07",
   "metadata": {},
   "outputs": [],
   "source": [
    "with mrcfile.new_mmap(os.path.join(out_dir, f'shape.mrc'), overwrite=True, shape=sigma.shape, mrc_mode=2) as mrc:\n",
    "    mrc.data[:] = sigma"
   ]
  },
  {
   "cell_type": "code",
   "execution_count": null,
   "id": "a1dee990-4756-4b2c-85c2-5d1e5e90732c",
   "metadata": {},
   "outputs": [],
   "source": []
  }
 ],
 "metadata": {
  "kernelspec": {
   "display_name": "Python 3 (ipykernel)",
   "language": "python",
   "name": "python3"
  },
  "language_info": {
   "codemirror_mode": {
    "name": "ipython",
    "version": 3
   },
   "file_extension": ".py",
   "mimetype": "text/x-python",
   "name": "python",
   "nbconvert_exporter": "python",
   "pygments_lexer": "ipython3",
   "version": "3.8.10"
  }
 },
 "nbformat": 4,
 "nbformat_minor": 5
}
